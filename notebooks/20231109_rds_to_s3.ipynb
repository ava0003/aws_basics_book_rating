{
 "cells": [
  {
   "cell_type": "code",
   "execution_count": 20,
   "metadata": {},
   "outputs": [],
   "source": [
    "import boto3\n",
    "import io\n",
    "import configparser\n",
    "import psycopg2\n",
    "import pandas as pd\n",
    "import io"
   ]
  },
  {
   "cell_type": "code",
   "execution_count": 38,
   "metadata": {},
   "outputs": [],
   "source": [
    "config = configparser.ConfigParser()\n",
    "config.read('../config.ini')\n",
    "\n",
    "aws_access_key_id = config['AWS']['aws_access_key_id']\n",
    "aws_secret_access_key = config['AWS']['aws_secret_access_key']\n",
    "region_name = config['AWS']['region_name']\n",
    "rds_db_endpoint = config['AWS']['rds_db_endpoint']\n",
    "rds_db_port = config['AWS']['rds_db_port']\n",
    "rds_db_user = config['AWS']['rds_db_user']\n",
    "rds_db_name = config['AWS']['rds_db_name']\n",
    "rds_db_password = config['AWS']['rds_db_password']\n",
    "\n",
    "\n",
    "\n",
    "bucket_name = config['AWS-S3']['bucket_name']\n",
    "bucket_file_users = config['AWS-S3']['bucket_file_users']\n",
    "bucket_file_ratings = config['AWS-S3']['bucket_file_ratings']\n",
    "bucket_file_books = config['AWS-S3']['bucket_file_books']\n"
   ]
  },
  {
   "cell_type": "code",
   "execution_count": 4,
   "metadata": {},
   "outputs": [],
   "source": [
    "def new_aws_session(aws_access_key_id, aws_secret_access_key, region): \n",
    "    session = boto3.Session(aws_access_key_id=aws_access_key_id, aws_secret_access_key=aws_secret_access_key, region_name=region)\n",
    "    return session"
   ]
  },
  {
   "cell_type": "code",
   "execution_count": 5,
   "metadata": {},
   "outputs": [
    {
     "data": {
      "text/plain": [
       "Session(region_name='eu-west-3')"
      ]
     },
     "execution_count": 5,
     "metadata": {},
     "output_type": "execute_result"
    }
   ],
   "source": [
    "session = new_aws_session(aws_access_key_id, aws_secret_access_key, region_name)\n",
    "\n",
    "session"
   ]
  },
  {
   "cell_type": "code",
   "execution_count": 15,
   "metadata": {},
   "outputs": [],
   "source": [
    "# Connection to RDS \n",
    "\n",
    "try:\n",
    "    conn = psycopg2.connect(f\"host={rds_db_endpoint} port={rds_db_port}  user={rds_db_user}  password={rds_db_password} dbname={rds_db_name}\")\n",
    "    # conn = psycopg2.connect(\"host= localhost port=5432  user=postgres  password=anamac dbname=db_book_recommendation\")\n",
    "except psycopg2.Error as e :\n",
    "    print(e)"
   ]
  },
  {
   "cell_type": "code",
   "execution_count": 21,
   "metadata": {},
   "outputs": [
    {
     "name": "stderr",
     "output_type": "stream",
     "text": [
      "/var/folders/pv/gcq6fn3s0_l1qn6qdtx7srf00000gn/T/ipykernel_26890/913844295.py:11: UserWarning: pandas only supports SQLAlchemy connectable (engine/connection) or database string URI or sqlite3 DBAPI2 connection. Other DBAPI2 objects are not tested. Please consider using SQLAlchemy.\n",
      "  result_users = pd.read_sql(sql_users, conn)\n"
     ]
    }
   ],
   "source": [
    "sql_users = '''\n",
    "    SELECT \n",
    "        userID ,\n",
    "        age ,\n",
    "        location_city ,\n",
    "        location_department ,\n",
    "        location_country \n",
    "    FROM USERS\n",
    "'''\n",
    "try:\n",
    "    result_users = pd.read_sql(sql_users, conn)\n",
    "    df_users = pd.DataFrame(result_users)\n",
    "    df_users\n",
    "except psycopg2.Error as e :\n",
    "    print(e)"
   ]
  },
  {
   "cell_type": "code",
   "execution_count": 44,
   "metadata": {},
   "outputs": [
    {
     "name": "stderr",
     "output_type": "stream",
     "text": [
      "/var/folders/pv/gcq6fn3s0_l1qn6qdtx7srf00000gn/T/ipykernel_26890/1304569003.py:11: UserWarning: pandas only supports SQLAlchemy connectable (engine/connection) or database string URI or sqlite3 DBAPI2 connection. Other DBAPI2 objects are not tested. Please consider using SQLAlchemy.\n",
      "  result_books = pd.read_sql(sql_books, conn)\n"
     ]
    }
   ],
   "source": [
    "sql_books = '''\n",
    "    SELECT \n",
    "        isbn ,\n",
    "        book_title ,\n",
    "        book_author ,\n",
    "        year_of_publication ,\n",
    "        publisher \n",
    "    FROM BOOKS\n",
    "'''\n",
    "try:\n",
    "    result_books = pd.read_sql(sql_books, conn)\n",
    "    df_books = pd.DataFrame(result_books)\n",
    "    df_books\n",
    "except psycopg2.Error as e :\n",
    "    print(e)"
   ]
  },
  {
   "cell_type": "code",
   "execution_count": 35,
   "metadata": {},
   "outputs": [
    {
     "name": "stderr",
     "output_type": "stream",
     "text": [
      "/var/folders/pv/gcq6fn3s0_l1qn6qdtx7srf00000gn/T/ipykernel_26890/1697284052.py:9: UserWarning: pandas only supports SQLAlchemy connectable (engine/connection) or database string URI or sqlite3 DBAPI2 connection. Other DBAPI2 objects are not tested. Please consider using SQLAlchemy.\n",
      "  result_ratings = pd.read_sql(sql_ratings, conn)\n"
     ]
    }
   ],
   "source": [
    "sql_ratings = '''\n",
    "    SELECT \n",
    "        userid,\n",
    "        isbn ,\n",
    "        book_rating\n",
    "    FROM RATINGS\n",
    "'''\n",
    "try:\n",
    "    result_ratings = pd.read_sql(sql_ratings, conn)\n",
    "    df_ratings = pd.DataFrame(result_ratings)\n",
    "    df_ratings\n",
    "except psycopg2.Error as e :\n",
    "    print(e)"
   ]
  },
  {
   "cell_type": "code",
   "execution_count": 22,
   "metadata": {},
   "outputs": [],
   "source": [
    "# Create a bucket to store all datasets\n",
    "s3 = session.client('s3', region_name=region_name)\n",
    "bucket_name = bucket_name\n",
    "location = {'LocationConstraint': region_name}\n",
    "response = s3.create_bucket(Bucket=bucket_name, CreateBucketConfiguration=location)\n"
   ]
  },
  {
   "cell_type": "code",
   "execution_count": 39,
   "metadata": {},
   "outputs": [],
   "source": [
    "# Get in-stream buffer for the dataset\n",
    "csv_buffer= io.StringIO()\n"
   ]
  },
  {
   "cell_type": "code",
   "execution_count": 40,
   "metadata": {},
   "outputs": [
    {
     "data": {
      "text/plain": [
       "{'ResponseMetadata': {'RequestId': '8E9J3SBD438X6T6T',\n",
       "  'HostId': 'uoT1dpW5oYPhIC8Msykz9qDTkthB5w7McVWmipOnws5C8wf8ThjFuaPC6F3m1lx4EvKXypYTQqJUCDPSqz3qCw==',\n",
       "  'HTTPStatusCode': 200,\n",
       "  'HTTPHeaders': {'x-amz-id-2': 'uoT1dpW5oYPhIC8Msykz9qDTkthB5w7McVWmipOnws5C8wf8ThjFuaPC6F3m1lx4EvKXypYTQqJUCDPSqz3qCw==',\n",
       "   'x-amz-request-id': '8E9J3SBD438X6T6T',\n",
       "   'date': 'Thu, 09 Nov 2023 15:00:02 GMT',\n",
       "   'x-amz-server-side-encryption': 'AES256',\n",
       "   'etag': '\"f5fc391b03afdb6b8ad4f15b9fdf6622\"',\n",
       "   'server': 'AmazonS3',\n",
       "   'content-length': '0'},\n",
       "  'RetryAttempts': 0},\n",
       " 'ETag': '\"f5fc391b03afdb6b8ad4f15b9fdf6622\"',\n",
       " 'ServerSideEncryption': 'AES256'}"
      ]
     },
     "execution_count": 40,
     "metadata": {},
     "output_type": "execute_result"
    }
   ],
   "source": [
    "# Upload csv to s3 bucket\n",
    "df_users.to_csv(csv_buffer, index=False)\n",
    "s3.put_object(Bucket=bucket_name, Key=bucket_file_users, Body=csv_buffer.getvalue())"
   ]
  },
  {
   "cell_type": "code",
   "execution_count": 45,
   "metadata": {},
   "outputs": [
    {
     "data": {
      "text/plain": [
       "{'ResponseMetadata': {'RequestId': 'RKZ7A292WSJ2PTQ2',\n",
       "  'HostId': 'pwypXAPBaHu6YxGsU6wCebwPP+ea5QG11ZnXH5lA7UiRCYLXS0MNhSOzSM4rwQm70242pTCVSc8=',\n",
       "  'HTTPStatusCode': 200,\n",
       "  'HTTPHeaders': {'x-amz-id-2': 'pwypXAPBaHu6YxGsU6wCebwPP+ea5QG11ZnXH5lA7UiRCYLXS0MNhSOzSM4rwQm70242pTCVSc8=',\n",
       "   'x-amz-request-id': 'RKZ7A292WSJ2PTQ2',\n",
       "   'date': 'Thu, 09 Nov 2023 15:07:15 GMT',\n",
       "   'x-amz-server-side-encryption': 'AES256',\n",
       "   'etag': '\"233ba5768cb7ab9fd98f1e3ad74ce087\"',\n",
       "   'server': 'AmazonS3',\n",
       "   'content-length': '0'},\n",
       "  'RetryAttempts': 0},\n",
       " 'ETag': '\"233ba5768cb7ab9fd98f1e3ad74ce087\"',\n",
       " 'ServerSideEncryption': 'AES256'}"
      ]
     },
     "execution_count": 45,
     "metadata": {},
     "output_type": "execute_result"
    }
   ],
   "source": [
    "# Upload csv to s3 bucket\n",
    "csv_buffer.close()\n",
    "csv_buffer= io.StringIO()\n",
    "df_books.to_csv(csv_buffer, index=False)\n",
    "s3.put_object(Bucket=bucket_name, Key=bucket_file_books, Body=csv_buffer.getvalue())"
   ]
  },
  {
   "cell_type": "code",
   "execution_count": 42,
   "metadata": {},
   "outputs": [
    {
     "data": {
      "text/plain": [
       "{'ResponseMetadata': {'RequestId': '6AWECZT7Z5BF5YH4',\n",
       "  'HostId': 'hytcXoQSvYk3P02KOtEyF6rI5bSXgsNaFPJM9b5aDG1w1/3yuFQGonAVlEy7qVYlteZxKobWdOA=',\n",
       "  'HTTPStatusCode': 200,\n",
       "  'HTTPHeaders': {'x-amz-id-2': 'hytcXoQSvYk3P02KOtEyF6rI5bSXgsNaFPJM9b5aDG1w1/3yuFQGonAVlEy7qVYlteZxKobWdOA=',\n",
       "   'x-amz-request-id': '6AWECZT7Z5BF5YH4',\n",
       "   'date': 'Thu, 09 Nov 2023 15:00:52 GMT',\n",
       "   'x-amz-server-side-encryption': 'AES256',\n",
       "   'etag': '\"fea4945ff0040d671092bdac6b22b71d\"',\n",
       "   'server': 'AmazonS3',\n",
       "   'content-length': '0'},\n",
       "  'RetryAttempts': 0},\n",
       " 'ETag': '\"fea4945ff0040d671092bdac6b22b71d\"',\n",
       " 'ServerSideEncryption': 'AES256'}"
      ]
     },
     "execution_count": 42,
     "metadata": {},
     "output_type": "execute_result"
    }
   ],
   "source": [
    "# Upload csv to s3 bucket\n",
    "csv_buffer.close()\n",
    "csv_buffer= io.StringIO()\n",
    "df_ratings.to_csv(csv_buffer, index=False)\n",
    "s3.put_object(Bucket=bucket_name, Key=bucket_file_ratings, Body=csv_buffer.getvalue())"
   ]
  },
  {
   "cell_type": "code",
   "execution_count": null,
   "metadata": {},
   "outputs": [],
   "source": []
  }
 ],
 "metadata": {
  "kernelspec": {
   "display_name": "book_recommendation-wr1yBtc6",
   "language": "python",
   "name": "python3"
  },
  "language_info": {
   "codemirror_mode": {
    "name": "ipython",
    "version": 3
   },
   "file_extension": ".py",
   "mimetype": "text/x-python",
   "name": "python",
   "nbconvert_exporter": "python",
   "pygments_lexer": "ipython3",
   "version": "3.11.5"
  }
 },
 "nbformat": 4,
 "nbformat_minor": 2
}
