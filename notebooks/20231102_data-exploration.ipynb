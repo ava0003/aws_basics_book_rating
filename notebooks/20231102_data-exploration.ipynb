{
 "cells": [
  {
   "cell_type": "code",
   "execution_count": 1,
   "metadata": {},
   "outputs": [],
   "source": [
    "import pandas as pd\n",
    "import numpy as np \n",
    "import configparser\n",
    "import re"
   ]
  },
  {
   "cell_type": "code",
   "execution_count": 5,
   "metadata": {},
   "outputs": [
    {
     "name": "stderr",
     "output_type": "stream",
     "text": [
      "/var/folders/pv/gcq6fn3s0_l1qn6qdtx7srf00000gn/T/ipykernel_39197/3031620084.py:10: DtypeWarning: Columns (3) have mixed types. Specify dtype option on import or set low_memory=False.\n",
      "  df_books = pd.read_csv(books_csv_url)\n"
     ]
    }
   ],
   "source": [
    "# Get data from .csv files\n",
    "\n",
    "config = configparser.ConfigParser()\n",
    "config.read('../config.ini')\n",
    "\n",
    "books_csv_url = config['URLRaw']['books']\n",
    "users_csv_url = config['URLRaw']['users']\n",
    "ratings_csv_url = config['URLRaw']['ratings']\n",
    "\n",
    "df_books = pd.read_csv(books_csv_url)\n",
    "df_users = pd.read_csv(users_csv_url)\n",
    "df_rating = pd.read_csv(ratings_csv_url)\n"
   ]
  },
  {
   "cell_type": "code",
   "execution_count": null,
   "metadata": {},
   "outputs": [],
   "source": [
    "# Explore books dataset\n",
    "\n",
    "df_books.info()\n",
    "df_books.head()\n",
    "# Null value\n",
    "\n",
    "df_books['ISBN_length'] = df_books['ISBN'].str.len()\n",
    "df_books['Year-Of-Publication'] = pd.to_numeric(df_books['Year-Of-Publication'], errors='coerce').fillna(0).astype(int)\n",
    "df_books_len = df_books['ISBN_length'].unique().tolist()\n",
    "\n",
    "df_books"
   ]
  },
  {
   "cell_type": "code",
   "execution_count": 120,
   "metadata": {},
   "outputs": [
    {
     "name": "stdout",
     "output_type": "stream",
     "text": [
      "<class 'pandas.core.frame.DataFrame'>\n",
      "RangeIndex: 278858 entries, 0 to 278857\n",
      "Data columns (total 3 columns):\n",
      " #   Column    Non-Null Count   Dtype  \n",
      "---  ------    --------------   -----  \n",
      " 0   User-ID   278858 non-null  int64  \n",
      " 1   Location  278858 non-null  object \n",
      " 2   Age       168096 non-null  float64\n",
      "dtypes: float64(1), int64(1), object(1)\n",
      "memory usage: 6.4+ MB\n",
      "<class 'pandas.core.frame.DataFrame'>\n",
      "RangeIndex: 278858 entries, 0 to 278857\n",
      "Data columns (total 6 columns):\n",
      " #   Column               Non-Null Count   Dtype \n",
      "---  ------               --------------   ----- \n",
      " 0   User-ID              278858 non-null  int64 \n",
      " 1   Location             278858 non-null  object\n",
      " 2   Age                  168096 non-null  Int64 \n",
      " 3   location_city        278858 non-null  object\n",
      " 4   location_department  278857 non-null  object\n",
      " 5   location_country     278856 non-null  object\n",
      "dtypes: Int64(1), int64(1), object(4)\n",
      "memory usage: 13.0+ MB\n"
     ]
    },
    {
     "data": {
      "text/html": [
       "<div>\n",
       "<style scoped>\n",
       "    .dataframe tbody tr th:only-of-type {\n",
       "        vertical-align: middle;\n",
       "    }\n",
       "\n",
       "    .dataframe tbody tr th {\n",
       "        vertical-align: top;\n",
       "    }\n",
       "\n",
       "    .dataframe thead th {\n",
       "        text-align: right;\n",
       "    }\n",
       "</style>\n",
       "<table border=\"1\" class=\"dataframe\">\n",
       "  <thead>\n",
       "    <tr style=\"text-align: right;\">\n",
       "      <th></th>\n",
       "      <th>User-ID</th>\n",
       "      <th>Location</th>\n",
       "      <th>Age</th>\n",
       "      <th>location_city</th>\n",
       "      <th>location_department</th>\n",
       "      <th>location_country</th>\n",
       "    </tr>\n",
       "  </thead>\n",
       "  <tbody>\n",
       "    <tr>\n",
       "      <th>0</th>\n",
       "      <td>1</td>\n",
       "      <td>nyc, new york, usa</td>\n",
       "      <td>&lt;NA&gt;</td>\n",
       "      <td>nyc</td>\n",
       "      <td>new york</td>\n",
       "      <td>usa</td>\n",
       "    </tr>\n",
       "    <tr>\n",
       "      <th>1</th>\n",
       "      <td>2</td>\n",
       "      <td>stockton, california, usa</td>\n",
       "      <td>18</td>\n",
       "      <td>stockton</td>\n",
       "      <td>california</td>\n",
       "      <td>usa</td>\n",
       "    </tr>\n",
       "    <tr>\n",
       "      <th>2</th>\n",
       "      <td>3</td>\n",
       "      <td>moscow, yukon territory, russia</td>\n",
       "      <td>&lt;NA&gt;</td>\n",
       "      <td>moscow</td>\n",
       "      <td>yukon territory</td>\n",
       "      <td>russia</td>\n",
       "    </tr>\n",
       "    <tr>\n",
       "      <th>3</th>\n",
       "      <td>4</td>\n",
       "      <td>porto, v.n.gaia, portugal</td>\n",
       "      <td>17</td>\n",
       "      <td>porto</td>\n",
       "      <td>v.n.gaia</td>\n",
       "      <td>portugal</td>\n",
       "    </tr>\n",
       "    <tr>\n",
       "      <th>4</th>\n",
       "      <td>5</td>\n",
       "      <td>farnborough, hants, united kingdom</td>\n",
       "      <td>&lt;NA&gt;</td>\n",
       "      <td>farnborough</td>\n",
       "      <td>hants</td>\n",
       "      <td>united kingdom</td>\n",
       "    </tr>\n",
       "  </tbody>\n",
       "</table>\n",
       "</div>"
      ],
      "text/plain": [
       "   User-ID                            Location   Age location_city  \\\n",
       "0        1                  nyc, new york, usa  <NA>           nyc   \n",
       "1        2           stockton, california, usa    18      stockton   \n",
       "2        3     moscow, yukon territory, russia  <NA>        moscow   \n",
       "3        4           porto, v.n.gaia, portugal    17         porto   \n",
       "4        5  farnborough, hants, united kingdom  <NA>   farnborough   \n",
       "\n",
       "  location_department location_country  \n",
       "0            new york              usa  \n",
       "1          california              usa  \n",
       "2     yukon territory           russia  \n",
       "3            v.n.gaia         portugal  \n",
       "4               hants   united kingdom  "
      ]
     },
     "execution_count": 120,
     "metadata": {},
     "output_type": "execute_result"
    }
   ],
   "source": [
    "# Explore books dataset\n",
    "\n",
    "df_users.info()\n",
    "\n",
    "df_users.head(15)\n",
    "\n",
    "# Data transformation\n",
    "# Split location column in 3 columns : city, department, country\n",
    "\n",
    "df_users['location_city'] = df_users['Location'].str.split(',', expand=True)[0]\n",
    "df_users['location_department'] = df_users['Location'].str.split(',', expand=True)[1]\n",
    "df_users['location_country'] = df_users['Location'].str.split(',', expand=True)[2]\n",
    "\n",
    "# Data transformation\n",
    "# Cast age type into int\n",
    "\n",
    "df_users['Age'] = pd.to_numeric(df_users['Age'], errors='coerce').fillna(0).astype('int')\n",
    "\n",
    "df_users.info()\n",
    "\n",
    "df_users.head()\n"
   ]
  },
  {
   "cell_type": "code",
   "execution_count": 121,
   "metadata": {},
   "outputs": [
    {
     "name": "stdout",
     "output_type": "stream",
     "text": [
      "<class 'pandas.core.frame.DataFrame'>\n",
      "RangeIndex: 1149780 entries, 0 to 1149779\n",
      "Data columns (total 3 columns):\n",
      " #   Column       Non-Null Count    Dtype \n",
      "---  ------       --------------    ----- \n",
      " 0   User-ID      1149780 non-null  int64 \n",
      " 1   ISBN         1149780 non-null  object\n",
      " 2   Book-Rating  1149780 non-null  int64 \n",
      "dtypes: int64(2), object(1)\n",
      "memory usage: 26.3+ MB\n",
      "<class 'pandas.core.frame.DataFrame'>\n",
      "Index: 1047261 entries, 1 to 1149779\n",
      "Data columns (total 3 columns):\n",
      " #   Column       Non-Null Count    Dtype \n",
      "---  ------       --------------    ----- \n",
      " 0   User-ID      1047261 non-null  int64 \n",
      " 1   ISBN         1047261 non-null  object\n",
      " 2   Book-Rating  1047261 non-null  int64 \n",
      "dtypes: int64(2), object(1)\n",
      "memory usage: 32.0+ MB\n"
     ]
    }
   ],
   "source": [
    "# Explore books dataset\n",
    "\n",
    "df_rating.info()\n",
    "df_rating.head()\n",
    "\n",
    "# Data transformation\n",
    "# Delete values where ISBN contains letters. It should contains only numbers\n",
    "\n",
    "def check_contains_letters(value):\n",
    "    return bool(re.match(r'^\\d+$', value))\n",
    "\n",
    "\n",
    "# Delete values where ISBN lenght not correspond to the ones foundo on book dataset\n",
    "\n",
    "df_rating = df_rating[~df_rating['ISBN'].apply(lambda x: not check_contains_letters(x))]\n",
    "\n",
    "df_rating = df_rating[df_rating['ISBN'].str.len().apply(lambda x: x in df_books_len)]\n",
    "\n",
    "\n",
    "df_rating.info()"
   ]
  },
  {
   "cell_type": "code",
   "execution_count": null,
   "metadata": {},
   "outputs": [],
   "source": []
  }
 ],
 "metadata": {
  "kernelspec": {
   "display_name": "book_recommendation-wr1yBtc6",
   "language": "python",
   "name": "python3"
  },
  "language_info": {
   "codemirror_mode": {
    "name": "ipython",
    "version": 3
   },
   "file_extension": ".py",
   "mimetype": "text/x-python",
   "name": "python",
   "nbconvert_exporter": "python",
   "pygments_lexer": "ipython3",
   "version": "3.11.5"
  }
 },
 "nbformat": 4,
 "nbformat_minor": 5
}
