{
 "cells": [
  {
   "cell_type": "code",
   "execution_count": 103,
   "metadata": {},
   "outputs": [],
   "source": [
    "import psycopg2\n",
    "from psycopg2.extras import execute_values\n",
    "import configparser\n",
    "import csv"
   ]
  },
  {
   "cell_type": "code",
   "execution_count": 109,
   "metadata": {},
   "outputs": [],
   "source": [
    "\n",
    "config = configparser.ConfigParser()\n",
    "config.read('../config.ini')\n",
    "\n",
    "books_csv_url = config['URLIntermediate']['books']\n",
    "users_csv_url = config['URLIntermediate']['users']\n",
    "ratings_csv_url = config['URLIntermediate']['ratings']\n",
    "\n",
    "rds_db_endpoint = config['AWS']['rds_db_endpoint']\n",
    "rds_db_port = config['AWS']['rds_db_port']\n",
    "rds_db_user = config['AWS']['rds_db_user']\n",
    "rds_db_password = config['AWS']['rds_db_password']\n",
    "rds_db_name = config['AWS']['rds_db_name']"
   ]
  },
  {
   "cell_type": "code",
   "execution_count": 105,
   "metadata": {},
   "outputs": [],
   "source": [
    "\n",
    "try:\n",
    "    # conn = psycopg2.connect(\"host= localhost port=5432  user=postgres  password=anamac\")\n",
    "    conn = psycopg2.connect(f\"host={rds_db_endpoint} port={rds_db_port}  user={rds_db_user}  password={rds_db_password}\")\n",
    "except psycopg2.Error as e :\n",
    "    print(e)"
   ]
  },
  {
   "cell_type": "code",
   "execution_count": 106,
   "metadata": {},
   "outputs": [],
   "source": [
    "try:\n",
    "    cur = conn.cursor()\n",
    "except psycopg2.Error as e :\n",
    "    print(e)"
   ]
  },
  {
   "cell_type": "code",
   "execution_count": 107,
   "metadata": {},
   "outputs": [],
   "source": [
    "conn.set_session(autocommit=True)"
   ]
  },
  {
   "cell_type": "code",
   "execution_count": 108,
   "metadata": {},
   "outputs": [],
   "source": [
    "\n",
    "try:\n",
    "    cur.execute(f\"CREATE DATABASE {rds_db_name}\")\n",
    "except psycopg2.Error as e :\n",
    "    print(e)"
   ]
  },
  {
   "cell_type": "code",
   "execution_count": 110,
   "metadata": {},
   "outputs": [],
   "source": [
    "try:\n",
    "    conn = psycopg2.connect(f\"host={rds_db_endpoint} port={rds_db_port}  user={rds_db_user}  password={rds_db_password} dbname={rds_db_name}\")\n",
    "    # conn = psycopg2.connect(\"host= localhost port=5432  user=postgres  password=anamac dbname=db_book_recommendation\")\n",
    "except psycopg2.Error as e :\n",
    "    print(e)"
   ]
  },
  {
   "cell_type": "code",
   "execution_count": 111,
   "metadata": {},
   "outputs": [],
   "source": [
    "try:\n",
    "    cur = conn.cursor()\n",
    "    conn.set_session(autocommit=True)\n",
    "except psycopg2.Error as e :\n",
    "    print(e)\n",
    "    "
   ]
  },
  {
   "cell_type": "code",
   "execution_count": 112,
   "metadata": {},
   "outputs": [],
   "source": [
    "sql = '''\n",
    "    CREATE TABLE USERS(\n",
    "        userID integer PRIMARY KEY,\n",
    "        age integer,\n",
    "        location_city varchar(255),\n",
    "        location_department varchar(255),\n",
    "        location_country varchar(255)\n",
    "    )\n",
    "'''\n",
    "try:\n",
    "    cur.execute(sql)\n",
    "except psycopg2.Error as e :\n",
    "    print(e)"
   ]
  },
  {
   "cell_type": "code",
   "execution_count": 113,
   "metadata": {},
   "outputs": [],
   "source": [
    "data_users = []\n",
    "with open(users_csv_url, 'r') as f:\n",
    "    reader = csv.reader(f)\n",
    "    next(reader)\n",
    "    for row in reader :\n",
    "        data_users.append((row[0], row[1], row[2], row[3], row[4]))\n"
   ]
  },
  {
   "cell_type": "code",
   "execution_count": 114,
   "metadata": {},
   "outputs": [],
   "source": [
    "try:\n",
    "    execute_values(cur, \"INSERT INTO USERS(userID, age, location_city, location_department, location_country) VALUES %s\", data_users)\n",
    "except psycopg2.Error as e :\n",
    "    print(e)"
   ]
  },
  {
   "cell_type": "code",
   "execution_count": 115,
   "metadata": {},
   "outputs": [],
   "source": [
    "sql3 = '''\n",
    "    CREATE TABLE RATINGS(\n",
    "        userID integer ,\n",
    "        ISBN char(15),\n",
    "        book_rating integer,\n",
    "        PRIMARY KEY(userID, ISBN)\n",
    "    )\n",
    "'''\n",
    "try:\n",
    "    cur.execute(sql3)\n",
    "except psycopg2.Error as e :\n",
    "    print(e)"
   ]
  },
  {
   "cell_type": "code",
   "execution_count": 116,
   "metadata": {},
   "outputs": [],
   "source": [
    "\n",
    "with open(ratings_csv_url, 'r') as f:\n",
    "    reader = csv.reader(f)\n",
    "    next(reader)\n",
    "    data_ratings = [(row[0], row[1], row[2]) for row in reader]"
   ]
  },
  {
   "cell_type": "code",
   "execution_count": 117,
   "metadata": {},
   "outputs": [],
   "source": [
    "try:\n",
    "    execute_values(cur, \"INSERT INTO RATINGS(userID, ISBN, book_rating) VALUES %s\", data_ratings)\n",
    "except psycopg2.Error as e :\n",
    "    print(e)"
   ]
  },
  {
   "cell_type": "code",
   "execution_count": null,
   "metadata": {},
   "outputs": [],
   "source": [
    "sql4 = '''\n",
    "    CREATE TABLE BOOKS(\n",
    "        ISBN char(15) PRIMARY KEY,\n",
    "        book_title varchar(450),\n",
    "        book_author varchar(255),\n",
    "        year_of_publication integer,\n",
    "        publisher varchar(255)\n",
    "    )\n",
    "'''\n",
    "try:\n",
    "    cur.execute(sql4)\n",
    "except psycopg2.Error as e :\n",
    "    print(e)"
   ]
  },
  {
   "cell_type": "code",
   "execution_count": null,
   "metadata": {},
   "outputs": [],
   "source": [
    "\n",
    "with open(books_csv_url, 'r') as f:\n",
    "    reader = csv.reader(f)\n",
    "    next(reader)\n",
    "    data_books = [(row[0], row[1], row[2], row[3], row[4]) for row in reader]"
   ]
  },
  {
   "cell_type": "code",
   "execution_count": null,
   "metadata": {},
   "outputs": [],
   "source": [
    "try:\n",
    "    execute_values(cur, '''INSERT INTO BOOKS(  \n",
    "                   ISBN ,\n",
    "        book_title ,\n",
    "        book_author ,\n",
    "        year_of_publication, \n",
    "        publisher ) VALUES %s''', data_books)\n",
    "except psycopg2.Error as e :\n",
    "    print(cur)\n",
    "    print(e)"
   ]
  },
  {
   "cell_type": "code",
   "execution_count": null,
   "metadata": {},
   "outputs": [],
   "source": []
  }
 ],
 "metadata": {
  "kernelspec": {
   "display_name": "book_recommendation-wr1yBtc6",
   "language": "python",
   "name": "python3"
  },
  "language_info": {
   "codemirror_mode": {
    "name": "ipython",
    "version": 3
   },
   "file_extension": ".py",
   "mimetype": "text/x-python",
   "name": "python",
   "nbconvert_exporter": "python",
   "pygments_lexer": "ipython3",
   "version": "3.11.5"
  }
 },
 "nbformat": 4,
 "nbformat_minor": 2
}
