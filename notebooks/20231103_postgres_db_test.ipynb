{
 "cells": [
  {
   "cell_type": "code",
   "execution_count": 53,
   "metadata": {},
   "outputs": [],
   "source": [
    "import psycopg2\n",
    "from psycopg2.extras import execute_values\n",
    "import configparser\n",
    "import csv"
   ]
  },
  {
   "cell_type": "code",
   "execution_count": 44,
   "metadata": {},
   "outputs": [],
   "source": [
    "config = configparser.ConfigParser()\n",
    "config.read('../config.ini')\n",
    "\n",
    "books_csv_url = config['URLIntermediate']['books']\n",
    "users_csv_url = config['URLIntermediate']['users']\n",
    "ratings_csv_url = config['URLIntermediate']['ratings']"
   ]
  },
  {
   "cell_type": "code",
   "execution_count": 24,
   "metadata": {},
   "outputs": [],
   "source": [
    "try:\n",
    "    conn = psycopg2.connect(\"host= db-bookrecommendation.cbvtifbmdf8d.eu-west-3.rds.amazonaws.com port=5432  user=postgres  password=postgres_bookrecommendation\")\n",
    "except psycopg2.Error as e :\n",
    "    print(e)"
   ]
  },
  {
   "cell_type": "code",
   "execution_count": 25,
   "metadata": {},
   "outputs": [],
   "source": [
    "try:\n",
    "    cur = conn.cursor()\n",
    "except psycopg2.Error as e :\n",
    "    print(e)"
   ]
  },
  {
   "cell_type": "code",
   "execution_count": 26,
   "metadata": {},
   "outputs": [],
   "source": [
    "conn.set_session(autocommit=True)"
   ]
  },
  {
   "cell_type": "code",
   "execution_count": 28,
   "metadata": {},
   "outputs": [
    {
     "name": "stdout",
     "output_type": "stream",
     "text": [
      "could not receive data from server: Operation timed out\n",
      "SSL SYSCALL error: Operation timed out\n",
      "\n"
     ]
    }
   ],
   "source": [
    "\n",
    "try:\n",
    "    cur.execute(\"CREATE DATABASE db_book_recommendation\")\n",
    "except psycopg2.Error as e :\n",
    "    print(e)"
   ]
  },
  {
   "cell_type": "code",
   "execution_count": 38,
   "metadata": {},
   "outputs": [],
   "source": [
    "try:\n",
    "    conn = psycopg2.connect(\"host= db-bookrecommendation.cbvtifbmdf8d.eu-west-3.rds.amazonaws.com port=5432  user=postgres  password=postgres_bookrecommendation dbname=db_book_recommendation\")\n",
    "except psycopg2.Error as e :\n",
    "    print(e)"
   ]
  },
  {
   "cell_type": "code",
   "execution_count": 39,
   "metadata": {},
   "outputs": [],
   "source": [
    "try:\n",
    "    cur = conn.cursor()\n",
    "    conn.set_session(autocommit=True)\n",
    "except psycopg2.Error as e :\n",
    "    print(e)\n",
    "    "
   ]
  },
  {
   "cell_type": "code",
   "execution_count": 41,
   "metadata": {},
   "outputs": [],
   "source": [
    "sql = '''\n",
    "    CREATE TABLE USERS(\n",
    "        userID integer,\n",
    "        location varchar(255),\n",
    "        age integer,\n",
    "        location_city varchar(255),\n",
    "        location_department varchar(255),\n",
    "        location_country varchar(255)\n",
    "    )\n",
    "'''\n",
    "try:\n",
    "    cur.execute(sql)\n",
    "except psycopg2.Error as e :\n",
    "    print(e)"
   ]
  },
  {
   "cell_type": "code",
   "execution_count": 66,
   "metadata": {},
   "outputs": [],
   "source": [
    "data_users = []\n",
    "with open(users_csv_url, 'r') as f:\n",
    "    reader = csv.reader(f)\n",
    "    next(reader)\n",
    "    for row in reader :\n",
    "        age = row[2] if row[2] != '' else None\n",
    "        data_users.append((row[0], row[1], age, row[3], row[4], row[5]))\n"
   ]
  },
  {
   "cell_type": "code",
   "execution_count": 67,
   "metadata": {},
   "outputs": [],
   "source": [
    "try:\n",
    "    execute_values(cur, \"INSERT INTO USERS(userID, location, age, location_city, location_department, location_country) VALUES %s\", data_users)\n",
    "except psycopg2.Error as e :\n",
    "    print(e)"
   ]
  },
  {
   "cell_type": "code",
   "execution_count": 56,
   "metadata": {},
   "outputs": [],
   "source": [
    "sql3 = '''\n",
    "    CREATE TABLE RATINGS(\n",
    "        userID integer,\n",
    "        ISBN char(15),\n",
    "        book_rating integer\n",
    "    )\n",
    "'''\n",
    "try:\n",
    "    cur.execute(sql3)\n",
    "except psycopg2.Error as e :\n",
    "    print(e)"
   ]
  },
  {
   "cell_type": "code",
   "execution_count": 57,
   "metadata": {},
   "outputs": [],
   "source": [
    "\n",
    "with open(ratings_csv_url, 'r') as f:\n",
    "    reader = csv.reader(f)\n",
    "    next(reader)\n",
    "    data_ratings = [(row[0], row[1], row[2]) for row in reader]"
   ]
  },
  {
   "cell_type": "code",
   "execution_count": 59,
   "metadata": {},
   "outputs": [],
   "source": [
    "try:\n",
    "    execute_values(cur, \"INSERT INTO RATINGS(userID, ISBN, book_rating) VALUES %s\", data_ratings)\n",
    "except psycopg2.Error as e :\n",
    "    print(e)"
   ]
  },
  {
   "cell_type": "code",
   "execution_count": 62,
   "metadata": {},
   "outputs": [],
   "source": [
    "sql4 = '''\n",
    "    CREATE TABLE BOOKS(\n",
    "        ISBN char(15),\n",
    "        book_title varchar(255),\n",
    "        book_author varchar(255),\n",
    "        year_of_publication integer,\n",
    "        publisher varchar(255),\n",
    "        image_url_s varchar(255),\n",
    "        image_url_m varchar(255),\n",
    "        image_url_l varchar(255)\n",
    "    )\n",
    "'''\n",
    "try:\n",
    "    cur.execute(sql4)\n",
    "except psycopg2.Error as e :\n",
    "    print(e)"
   ]
  },
  {
   "cell_type": "code",
   "execution_count": 63,
   "metadata": {},
   "outputs": [],
   "source": [
    "\n",
    "with open(books_csv_url, 'r') as f:\n",
    "    reader = csv.reader(f)\n",
    "    next(reader)\n",
    "    data_books = [(row[0], row[1], row[2], row[3], row[4], row[5], row[6], row[7]) for row in reader]"
   ]
  },
  {
   "cell_type": "code",
   "execution_count": 68,
   "metadata": {},
   "outputs": [
    {
     "name": "stdout",
     "output_type": "stream",
     "text": [
      "<cursor object at 0x1164c0f40; closed: 0>\n",
      "invalid input syntax for type integer: \"DK Publishing Inc\"\n",
      "LINE 9: ...Proficient Readers)\\\";Michael Teitelbaum\"','2000','DK Publis...\n",
      "                                                             ^\n",
      "\n"
     ]
    }
   ],
   "source": [
    "try:\n",
    "    execute_values(cur, '''INSERT INTO BOOKS(  \n",
    "                   ISBN ,\n",
    "        book_title ,\n",
    "        book_author ,\n",
    "        year_of_publication, \n",
    "        publisher ,\n",
    "        image_url_s ,\n",
    "        image_url_m ,\n",
    "        image_url_l ) VALUES %s''', data_books)\n",
    "except psycopg2.Error as e :\n",
    "    print(cur)\n",
    "    print(e)"
   ]
  },
  {
   "cell_type": "code",
   "execution_count": null,
   "metadata": {},
   "outputs": [],
   "source": []
  }
 ],
 "metadata": {
  "kernelspec": {
   "display_name": "book_recommendation-wr1yBtc6",
   "language": "python",
   "name": "python3"
  },
  "language_info": {
   "codemirror_mode": {
    "name": "ipython",
    "version": 3
   },
   "file_extension": ".py",
   "mimetype": "text/x-python",
   "name": "python",
   "nbconvert_exporter": "python",
   "pygments_lexer": "ipython3",
   "version": "3.11.5"
  }
 },
 "nbformat": 4,
 "nbformat_minor": 2
}
