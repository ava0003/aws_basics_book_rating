{
 "cells": [
  {
   "cell_type": "code",
   "execution_count": 3,
   "metadata": {},
   "outputs": [],
   "source": [
    "import boto3\n",
    "import io\n",
    "import configparser"
   ]
  },
  {
   "cell_type": "code",
   "execution_count": 10,
   "metadata": {},
   "outputs": [],
   "source": [
    "config = configparser.ConfigParser()\n",
    "config.read('../config.ini')\n",
    "\n",
    "aws_access_key_id = config['AWS']['aws_access_key_id']\n",
    "aws_secret_access_key = config['AWS']['aws_secret_access_key']\n",
    "region_name = config['AWS']['region_name']\n",
    "\n",
    "users_csv_url = config['URLIntermediate']['users']\n"
   ]
  },
  {
   "cell_type": "code",
   "execution_count": 5,
   "metadata": {},
   "outputs": [],
   "source": [
    "def new_aws_session(aws_access_key_id, aws_secret_access_key, region): \n",
    "    session = boto3.Session(aws_access_key_id=aws_access_key_id, aws_secret_access_key=aws_secret_access_key, region_name=region)\n",
    "    return session"
   ]
  },
  {
   "cell_type": "code",
   "execution_count": 6,
   "metadata": {},
   "outputs": [
    {
     "data": {
      "text/plain": [
       "Session(region_name='eu-west-3')"
      ]
     },
     "execution_count": 6,
     "metadata": {},
     "output_type": "execute_result"
    }
   ],
   "source": [
    "session = new_aws_session(aws_access_key_id, aws_secret_access_key, region_name)\n",
    "\n",
    "session"
   ]
  },
  {
   "cell_type": "code",
   "execution_count": 8,
   "metadata": {},
   "outputs": [],
   "source": [
    "s3 = session.client('s3', region_name=region_name)\n",
    "bucket_name = 'demo-bucket-ava-dev'\n",
    "location = {'LocationConstraint': region_name}\n",
    "response = s3.create_bucket(Bucket=bucket_name, CreateBucketConfiguration=location)\n"
   ]
  },
  {
   "cell_type": "code",
   "execution_count": null,
   "metadata": {},
   "outputs": [],
   "source": [
    "# Get list of the buckets\n",
    "response = s3.list_buckets()\n",
    "\n",
    "response"
   ]
  },
  {
   "cell_type": "code",
   "execution_count": 12,
   "metadata": {},
   "outputs": [],
   "source": [
    "# Upload a file \n",
    "\n",
    "def upload_files(s3_client, file_name, bucket):\n",
    "  object_name = file_name\n",
    "  s3_client.upload_file(file_name, bucket, object_name)\n",
    "  \n",
    "upload_files(s3, users_csv_url, bucket_name)"
   ]
  },
  {
   "cell_type": "code",
   "execution_count": 15,
   "metadata": {},
   "outputs": [
    {
     "data": {
      "text/plain": [
       "{'ResponseMetadata': {'RequestId': 'XJJTZXMN65JXCSXB',\n",
       "  'HostId': 'eoeMYFGCULw+d9lyAHQ7+2SjdPOeDmV+cMQeI6WLCeC/H7ozo5x1T3V/oY79RR+9QB1gALxeKSs=',\n",
       "  'HTTPStatusCode': 200,\n",
       "  'HTTPHeaders': {'x-amz-id-2': 'eoeMYFGCULw+d9lyAHQ7+2SjdPOeDmV+cMQeI6WLCeC/H7ozo5x1T3V/oY79RR+9QB1gALxeKSs=',\n",
       "   'x-amz-request-id': 'XJJTZXMN65JXCSXB',\n",
       "   'date': 'Wed, 08 Nov 2023 15:48:05 GMT',\n",
       "   'x-amz-bucket-region': 'eu-west-3',\n",
       "   'content-type': 'application/xml',\n",
       "   'transfer-encoding': 'chunked',\n",
       "   'server': 'AmazonS3'},\n",
       "  'RetryAttempts': 0},\n",
       " 'IsTruncated': False,\n",
       " 'Contents': [{'Key': '/Users/anavillenaalguacil/Documents/Dev/data-eng/book_recommendation/data/02_intermediate/Users.csv',\n",
       "   'LastModified': datetime.datetime(2023, 11, 8, 15, 31, 37, tzinfo=tzutc()),\n",
       "   'ETag': '\"74881f7bef3d5c025676ab4d7b0c92bc-2\"',\n",
       "   'Size': 10222490,\n",
       "   'StorageClass': 'STANDARD'}],\n",
       " 'Name': 'demo-bucket-ava-dev',\n",
       " 'Prefix': '',\n",
       " 'MaxKeys': 1000,\n",
       " 'EncodingType': 'url',\n",
       " 'KeyCount': 1}"
      ]
     },
     "execution_count": 15,
     "metadata": {},
     "output_type": "execute_result"
    }
   ],
   "source": [
    "# Generate list of files\n",
    "\n",
    "s3_bucket = s3.list_objects_v2(Bucket=bucket_name)\n",
    "s3_bucket"
   ]
  },
  {
   "cell_type": "code",
   "execution_count": null,
   "metadata": {},
   "outputs": [],
   "source": []
  },
  {
   "cell_type": "code",
   "execution_count": null,
   "metadata": {},
   "outputs": [],
   "source": []
  }
 ],
 "metadata": {
  "kernelspec": {
   "display_name": "book_recommendation-wr1yBtc6",
   "language": "python",
   "name": "python3"
  },
  "language_info": {
   "codemirror_mode": {
    "name": "ipython",
    "version": 3
   },
   "file_extension": ".py",
   "mimetype": "text/x-python",
   "name": "python",
   "nbconvert_exporter": "python",
   "pygments_lexer": "ipython3",
   "version": "3.11.5"
  }
 },
 "nbformat": 4,
 "nbformat_minor": 2
}
